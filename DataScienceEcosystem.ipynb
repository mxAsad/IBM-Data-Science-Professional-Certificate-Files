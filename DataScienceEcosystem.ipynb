{
 "cells": [
  {
   "cell_type": "markdown",
   "id": "cc66dacb-55db-4529-b33a-31c0693cd584",
   "metadata": {},
   "source": [
    "# Data Science Tools and Ecosystem"
   ]
  },
  {
   "cell_type": "markdown",
   "id": "576edde2-9f6e-418d-b5b8-950dc18aa4a8",
   "metadata": {},
   "source": [
    "## Introduction\n",
    "\n",
    "In this notebook, Data Science Tools and Ecosystem are summarized. It is specifically created for the final peer-graded assessment at the end of the,\"Tools for Data Science\" course"
   ]
  },
  {
   "cell_type": "markdown",
   "id": "626f93d2-7ef2-406d-be98-2bf2fd98aa0e",
   "metadata": {},
   "source": [
    "**Objectives:**\n",
    "\n",
    "1. List popular languages for Data Science\n",
    "2. Identify commonly used Data Science libraries\n",
    "3. Understand various Data Science tools\n",
    "4. Explore different development environments used in Data Science\n",
    "5. Gain familiarity with markdown for documentation in Jupyter Notebooks\n",
    "6. Understand the significance of open-source tools in Data Science\n"
   ]
  },
  {
   "cell_type": "markdown",
   "id": "dc83f8dc-ec73-49f7-9686-0d24565479e1",
   "metadata": {},
   "source": [
    "## Data Science Languages\n",
    "\n",
    "Some of the popular languages that Data Scientists use are:\n",
    "\n",
    "1. Python\n",
    "2. R\n",
    "3. SQL\n",
    "4. Julia\n",
    "5. Scala"
   ]
  },
  {
   "cell_type": "markdown",
   "id": "8f257473-d3a0-4f55-9f30-7b5f3b8c59cf",
   "metadata": {},
   "source": [
    "## Data Science Libraries\n",
    "\n",
    "Some of the commonly used libraries used by Data Scientists include:\n",
    "\n",
    "1. NumPy\n",
    "2. Pandas\n",
    "3. Scikit-learn\n",
    "4. TensorFlow\n",
    "5. Matplotlib\n"
   ]
  },
  {
   "cell_type": "markdown",
   "id": "67afe338-0ab8-49f0-b2b4-f42d2ad29cbd",
   "metadata": {},
   "source": [
    "## Data Science Tools\n",
    "\n",
    "Some of the commonly used tools used by Data Scientists include:\n",
    "\n",
    "\n",
    "| Data Science Tools       |\n",
    "|--------------------------|\n",
    "| Jupyter Notebook          |\n",
    "| RStudio                   |\n",
    "| VS Code                   |\n",
    "| Google Colab              |\n"
   ]
  },
  {
   "cell_type": "markdown",
   "id": "bb7e75f5-e6a2-4073-a986-ede8dc161399",
   "metadata": {},
   "source": [
    "### Below are a few examples of evaluating arithmetic expressions in Python\n"
   ]
  },
  {
   "cell_type": "code",
   "execution_count": 7,
   "id": "d3411017-7f87-44d0-ad61-586e4b2482ca",
   "metadata": {
    "tags": []
   },
   "outputs": [
    {
     "data": {
      "text/plain": [
       "7200"
      ]
     },
     "execution_count": 7,
     "metadata": {},
     "output_type": "execute_result"
    }
   ],
   "source": [
    "# This a simple arithmetic expression to mutiply then add integers\n",
    "\n",
    "100*(48+24)\n"
   ]
  },
  {
   "cell_type": "markdown",
   "id": "2536172a-86de-43b5-806b-3a9b65c6faf8",
   "metadata": {},
   "source": [
    "### Code to convert minutes into hours"
   ]
  },
  {
   "cell_type": "code",
   "execution_count": 6,
   "id": "14a16f16-97fc-497c-8077-2b598b6971c1",
   "metadata": {
    "tags": []
   },
   "outputs": [
    {
     "name": "stdout",
     "output_type": "stream",
     "text": [
      "The number of hours after converting minutes 256 to hours is 4.266666666666667 hours.\n"
     ]
    }
   ],
   "source": [
    "# This will convert 200 minutes to hours by diving by 60\n",
    "minutes = 256\n",
    "\n",
    "hours = minutes/60\n",
    "\n",
    "print(f\"The number of hours after converting minutes {minutes} to hours is {hours} hours.\")\n"
   ]
  },
  {
   "cell_type": "markdown",
   "id": "2b029f70-b055-4b1a-aedf-5ebbd91ec5df",
   "metadata": {},
   "source": [
    "## Author\n",
    "\n",
    "Muhammad Asad\n"
   ]
  }
 ],
 "metadata": {
  "kernelspec": {
   "display_name": "Python",
   "language": "python",
   "name": "conda-env-python-py"
  },
  "language_info": {
   "codemirror_mode": {
    "name": "ipython",
    "version": 3
   },
   "file_extension": ".py",
   "mimetype": "text/x-python",
   "name": "python",
   "nbconvert_exporter": "python",
   "pygments_lexer": "ipython3",
   "version": "3.7.12"
  }
 },
 "nbformat": 4,
 "nbformat_minor": 5
}
